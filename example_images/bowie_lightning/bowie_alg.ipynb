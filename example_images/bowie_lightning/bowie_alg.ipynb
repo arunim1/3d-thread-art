{
 "cells": [
  {
   "cell_type": "code",
   "execution_count": 1,
   "metadata": {},
   "outputs": [],
   "source": [
    "import numpy as np\n",
    "from itertools import product\n",
    "from PIL import Image, ImageDraw\n",
    "import matplotlib.pyplot as plt\n",
    "import time\n",
    "from IPython.display import clear_output"
   ]
  },
  {
   "cell_type": "markdown",
   "metadata": {},
   "source": [
    "**generate_hooks**     \n",
    "* Generates the position of hooks, given a particular number of hooks, wheel pixel size, and hook pixel size.\n",
    "* Creates 2 lists of positions (one for the anticlockwise side, one for the clockwise), and weaves them together so that the order they appear in the final output is the order of nodes anticlockwise around the frame.\n",
    "\n",
    "**through_pixels**\n",
    "* Given 2 hooks, generates a list of pixels that the line connecting them runs through.\n",
    "\n",
    "**build_through_pixels_dict**\n",
    "* Uses `through_pixels` to build up a dictionary of all possible lines connecting 2 hooks.\n",
    "* Can be run at the start of a project, and doesn't need to be run again.\n",
    "* Prints out an ongoing estimate of how much time is left."
   ]
  },
  {
   "cell_type": "code",
   "execution_count": 2,
   "metadata": {},
   "outputs": [],
   "source": [
    "def generate_hooks(n_hooks, wheel_pixel_size, hook_pixel_size):\n",
    "    \n",
    "    r = (wheel_pixel_size / 2) - 1\n",
    "    \n",
    "    theta = np.arange(n_hooks, dtype=\"float64\") / n_hooks * (2 * np.pi)\n",
    "    \n",
    "    epsilon = np.arcsin(hook_pixel_size / wheel_pixel_size)\n",
    "    \n",
    "    theta_acw = theta.copy() + epsilon\n",
    "    theta_cw = theta.copy() - epsilon\n",
    "    \n",
    "    theta = np.stack((theta_cw, theta_acw)).ravel(\"F\")\n",
    "    \n",
    "    x = r * (1 + np.cos(theta)) + 0.5\n",
    "    y = r * (1 + np.sin(theta)) + 0.5\n",
    "    \n",
    "    return np.array((x,y)).T\n",
    "\n",
    "\n",
    "def through_pixels(p0, p1):\n",
    "    \n",
    "    d = max(int(((p0[0]-p1[0])**2 + (p0[1]-p1[1])**2) ** 0.5), 1)\n",
    "    \n",
    "    pixels = p0 + (p1-p0) * np.array([np.arange(d+1), np.arange(d+1)]).T / d\n",
    "    pixels = np.unique(np.round(pixels), axis=0).astype(int)\n",
    "    \n",
    "    return pixels\n",
    "\n",
    "\n",
    "def build_through_pixels_dict(n_hooks, wheel_pixel_size, hook_pixel_size):\n",
    "\n",
    "    n_hook_sides = n_hooks * 2\n",
    "\n",
    "    l = [(0,1)]\n",
    "    for j in range(n_hook_sides):\n",
    "        for i in range(j):\n",
    "            if j-i > 10 and j-i < (n_hook_sides - 10):\n",
    "                l.append((i, j))\n",
    "    \n",
    "    random_order = np.random.choice(len(l),len(l),replace=False)\n",
    "    \n",
    "    d = {}    \n",
    "    t_list = []\n",
    "    t0 = time.time()\n",
    "    \n",
    "    for n in range(len(l)):\n",
    "        (i, j) = l[random_order[n]]\n",
    "        p0, p1 = hooks[i], hooks[j]\n",
    "        d[(i,j)] = through_pixels(p0, p1)\n",
    "        \n",
    "        t = time.time() - t0\n",
    "        t_left = t * (len(l) - n - 1) / (n + 1)\n",
    "        print(f\"time left = {time.strftime('%M:%S', time.gmtime(t_left))}\", end=\"\\r\")\n",
    "    \n",
    "    clear_output()\n",
    "    return d"
   ]
  },
  {
   "cell_type": "markdown",
   "metadata": {},
   "source": [
    "**fitness**\n",
    "* Measures how much a line improves the image. Improvement is average difference in penalty between the old and new images.\n",
    "  * **Penalty** depends on the lightness_penalty, w, w_pos and w_neg parameters. At its simplest level, penalty is the sum of the absolute values of all the pixels in the image, but: \n",
    "    * `lightness_penalty` applies a scale factor to the penalties for negative pixels (e.g. if it was less than 1, the algorithm prefers drawing too many lines than too few).\n",
    "    * `w` is an array, just like image. It assigns an importance weighting to pixels. A black pixel means that area has full weighting in the penalty calculation, but a while pixel means that area is completely ignored.\n",
    "    * `w_pos` and `w_neg` are similar to w, except they distinguish between positive and negative pixels. Note that we can't use this mode and the previous mode w, so we must have either w set to False, or both w_pos and w_neg set to False.\n",
    "  * **Average** depends on the `line_norm_mode` parameter. There are 3 possible modes: \"none\" (just the sum is taken, no average), \"length\" (penalty is divided by length of line), or \"weighted length\" (penalty is divided by the sum of weightings). Note the latter mode only makes sense if you are using a weigting. If using w_pos and w_neg, it defaults to summing over w_pos.\n",
    "\n",
    "**optimise_fitness**\n",
    "* Process of adding a new line is as follows:\n",
    "    1. Generates random lines (ensuring they aren't the same line, or connecting hooks too close to each other), then finds the line with the best fitness.\n",
    "    2. Subtracts this line from the image.\n",
    "    3. Returns the new image, the best line, and a boolean that says whether a line is being added or removed."
   ]
  },
  {
   "cell_type": "code",
   "execution_count": 3,
   "metadata": {},
   "outputs": [],
   "source": [
    "def fitness(image, i, j, darkness, lightness_penalty, w, w_pos, w_neg, line_norm_mode, adding):\n",
    "    \n",
    "    pixels = through_pixels_dict[(i, j)]\n",
    "    \n",
    "    old_pixel_values = image[tuple(pixels.T)]\n",
    "    \n",
    "    if adding:\n",
    "        new_pixel_values = old_pixel_values - darkness\n",
    "    else:\n",
    "        new_pixel_values = old_pixel_values + darkness\n",
    "\n",
    "    if type(w) == bool and type(w_pos) == bool:\n",
    "        new_penalty = new_pixel_values.sum() - (1 + lightness_penalty) * new_pixel_values[new_pixel_values < 0].sum()\n",
    "        old_penalty = old_pixel_values.sum() - (1 + lightness_penalty) * old_pixel_values[old_pixel_values < 0].sum()\n",
    "    elif type(w_pos) == bool:\n",
    "        pixel_weightings = w[tuple(pixels.T)]\n",
    "        new_w_pixel_values = new_pixel_values * pixel_weightings\n",
    "        old_w_pixel_values = old_pixel_values * pixel_weightings\n",
    "        new_penalty = new_w_pixel_values.sum() - (1 + lightness_penalty) * new_w_pixel_values[new_pixel_values < 0].sum()\n",
    "        old_penalty = old_w_pixel_values.sum() - (1 + lightness_penalty) * old_w_pixel_values[old_pixel_values < 0].sum()\n",
    "    elif type(w) == bool:\n",
    "        pos_pixel_weightings = w_pos[tuple(pixels.T)]\n",
    "        neg_pixel_weightings = w_neg[tuple(pixels.T)]\n",
    "        new_wpos_pixel_values = new_pixel_values * pos_pixel_weightings\n",
    "        new_wneg_pixel_values = new_pixel_values * neg_pixel_weightings\n",
    "        old_wpos_pixel_values = old_pixel_values * pos_pixel_weightings\n",
    "        old_wneg_pixel_values = old_pixel_values * neg_pixel_weightings\n",
    "        new_penalty = new_wpos_pixel_values[new_pixel_values > 0].sum() \\\n",
    "                      - lightness_penalty * new_wneg_pixel_values[new_pixel_values < 0].sum()\n",
    "        old_penalty = old_wpos_pixel_values[old_pixel_values > 0].sum() \\\n",
    "                      - lightness_penalty * old_wneg_pixel_values[old_pixel_values < 0].sum()\n",
    "\n",
    "    if line_norm_mode == \"length\":\n",
    "        line_norm = len(pixels)\n",
    "    elif line_norm_mode == \"weighted length\":\n",
    "        if type(w_pos) == bool:\n",
    "            line_norm = sum(pixel_weightings)\n",
    "        else:\n",
    "            line_norm = sum(pos_pixel_weightings)\n",
    "    elif line_norm_mode == \"none\":\n",
    "        line_norm = 1\n",
    "     \n",
    "    if line_norm == 0:\n",
    "        return 0\n",
    "    else:\n",
    "        return (new_penalty - old_penalty) / line_norm\n",
    "\n",
    "\n",
    "def optimise_fitness(image, n_random, darkness, lightness_penalty, n_hooks, list_of_lines, w, w_pos, w_neg, line_norm_mode):\n",
    "    \n",
    "    n_hook_sides = n_hooks * 2\n",
    "    \n",
    "    rand_numbers = np.random.choice(n_hook_sides**2, n_random, replace=False)\n",
    "\n",
    "    rand_lines = [sorted((int(i/n_hook_sides), i%n_hook_sides)) for i in rand_numbers]\n",
    "        \n",
    "    best_fitness = 0\n",
    "    best_line = (0,1)\n",
    "\n",
    "    for line in rand_lines:\n",
    "            \n",
    "        (i, j) = line\n",
    "            \n",
    "        if j-i > 10 and j-i < (n_hook_sides - 10):\n",
    "            \n",
    "            new_fitness = fitness(image, i, j, darkness, lightness_penalty, w, w_pos, w_neg, line_norm_mode, \n",
    "                                  adding = line not in list_of_lines)\n",
    "            \n",
    "            if new_fitness <= best_fitness:\n",
    "                \n",
    "                best_fitness = new_fitness\n",
    "                best_line = line\n",
    "\n",
    "    p0, p1 = hooks[best_line[0]], hooks[best_line[1]]\n",
    "    \n",
    "    adding = best_line not in list_of_lines    \n",
    "    for p in through_pixels_dict[tuple(best_line)]:\n",
    "        if adding:\n",
    "            image[p[0],p[1]] -= darkness\n",
    "        else:\n",
    "            image[p[0],p[1]] += darkness   \n",
    "\n",
    "    return image, best_line, adding"
   ]
  },
  {
   "cell_type": "markdown",
   "metadata": {},
   "source": [
    "**find_lines**\n",
    "* Calls `optimise_fitness` multiple times to draw a set of lines.\n",
    "* Updates the image and the list of lines with each line drawn.\n",
    "* Every 20 lines drawn, prints output that describes the progress of the algorithm (including average penalty, current runtime, and projected total runtime).\n",
    "\n",
    "**get_penalty**\n",
    "* Calculates the total penalty of the image.\n",
    "* This is different depending on whether importance weightings are being used."
   ]
  },
  {
   "cell_type": "code",
   "execution_count": 4,
   "metadata": {},
   "outputs": [],
   "source": [
    "def find_lines(image, n_lines, n_random, darkness, lightness_penalty, line_norm_mode, w=False, w_pos=False, w_neg=False):\n",
    "    \n",
    "    list_of_lines = []\n",
    "    \n",
    "    for i in range(n_lines):\n",
    "        \n",
    "        if i == 0:\n",
    "            t0 = time.time()\n",
    "            initial_penalty = get_penalty(image, lightness_penalty, w, w_pos, w_neg)\n",
    "            initial_avg_penalty = '{:.2f}'.format(initial_penalty / (wheel_pixel_size ** 2))\n",
    "        elif i%50 == 0:\n",
    "            t_so_far = time.strftime('%H:%M:%S', time.gmtime(time.time() - t0))\n",
    "            t_left = time.strftime('%H:%M:%S', time.gmtime((time.time() - t0) * (n_lines - i) / i))   \n",
    "            penalty = get_penalty(image, lightness_penalty, w, w_pos, w_neg)\n",
    "            avg_penalty = '{:.2f}'.format(penalty / (wheel_pixel_size ** 2))\n",
    "            print(f\"{len(list_of_lines)}/{i}, average penalty = {avg_penalty}/{initial_avg_penalty}, \\\n",
    "time = {t_so_far}, time left = {t_left}\", end=\"\\r\")                \n",
    "        \n",
    "        image, line, adding = optimise_fitness(image, n_random, darkness, lightness_penalty, n_hooks, list_of_lines, \n",
    "                                                  w, w_pos, w_neg, line_norm_mode)\n",
    "        \n",
    "        if adding:\n",
    "            list_of_lines.append(line)\n",
    "        else:\n",
    "            list_of_lines.remove(line)\n",
    "    \n",
    "    clear_output()\n",
    "    \n",
    "    penalty = get_penalty(image, lightness_penalty, w, w_pos, w_neg)\n",
    "    avg_penalty = '{:.2f}'.format(penalty / (wheel_pixel_size ** 2))\n",
    "    print(f\"{len(list_of_lines)}/{n_lines}, average penalty = {avg_penalty}/{initial_avg_penalty}\")\n",
    "    print(\"time = \" + time.strftime('%H:%M:%S', time.gmtime(time.time() - t0)))\n",
    "    \n",
    "    return list_of_lines\n",
    "        \n",
    "\n",
    "def get_penalty(image, lightness_penalty, w, w_pos, w_neg):\n",
    "    \n",
    "    if type(w) == bool and type(w_pos) == bool:\n",
    "        return image.sum() - (1 + lightness_penalty) * image[image<0].sum()\n",
    "    elif type(w_pos) == bool:\n",
    "        image_w = image * w\n",
    "        return image_w.sum() - (1 + lightness_penalty) * image_w[image<0].sum()\n",
    "    elif type(w) == bool:\n",
    "        image_wpos = image * w_pos\n",
    "        image_wneg = image * w_neg\n",
    "        return image_wpos[image>0].sum() - lightness_penalty * image_wneg[image<0].sum() "
   ]
  },
  {
   "cell_type": "markdown",
   "metadata": {},
   "source": [
    "**prepare_image**\n",
    "* Takes a jpeg or png image file, and converts it into a square array of bytes.\n",
    "* `colour` (boolean) determines whether image is meant to have its colour read rather than darkness. If True then the pixel values will represent the saturation of the image, if False then they will represent the darkness.\n",
    "* `weighting` (boolean) determines whether image is meant to be an importance weighting. If True, the array has values between 0 and 1, where black = 1 = maximum importance, and white = 0 = no importance).\n",
    "\n",
    "**display_images**\n",
    "* Displays images (i.e. output from `prepare_image`) inline, in a nice format."
   ]
  },
  {
   "cell_type": "code",
   "execution_count": 5,
   "metadata": {},
   "outputs": [],
   "source": [
    "def prepare_image(file_name, colour=False, weighting=False):\n",
    "    \n",
    "    image = Image.open(file_name).resize((wheel_pixel_size, wheel_pixel_size))\n",
    "    \n",
    "    if colour:\n",
    "        image = np.array(image.convert(mode=\"HSV\").getdata()).reshape((wheel_pixel_size, wheel_pixel_size,3))[:,:,1]\n",
    "    elif weighting:     \n",
    "        image = 1 - np.array(image.convert(mode=\"L\").getdata()).reshape((wheel_pixel_size, wheel_pixel_size)) / 255\n",
    "    else:\n",
    "        image = 255 - np.array(image.convert(mode=\"L\").getdata()).reshape((wheel_pixel_size, wheel_pixel_size))\n",
    "\n",
    "    coords = np.array(list(product(range(wheel_pixel_size), range(wheel_pixel_size))))\n",
    "    x_coords = coords.T[0]\n",
    "    y_coords = coords.T[1]\n",
    "    coords_distance_from_centre = np.sqrt((x_coords - (wheel_pixel_size-1)*0.5)**2 + (y_coords - (wheel_pixel_size-1)*0.5)**2)\n",
    "    mask = np.array(coords_distance_from_centre > wheel_pixel_size*0.5)\n",
    "    mask = np.reshape(mask, (-1, wheel_pixel_size))\n",
    "    image[mask] = 0                             \n",
    "            \n",
    "    return image.T[:,::-1]\n",
    "\n",
    "\n",
    "def display_images(image_list):\n",
    "    \n",
    "    fig, axs = plt.subplots(1,len(image_list),figsize=(30,30));\n",
    "    for (i,j) in zip(range(len(image_list)), image_list):\n",
    "        axs[i].set_yticklabels([])\n",
    "        axs[i].set_xticklabels([])\n",
    "        axs[i].imshow(j[:,::-1].T, cmap=plt.get_cmap(\"Greys\"));"
   ]
  },
  {
   "cell_type": "markdown",
   "metadata": {},
   "source": [
    "**save_plot**\n",
    "* Saves the plot of lines as a jpeg with a specified name.\n",
    "* It can also save multicoloured images; colours are added in the order they appear in the list.\n",
    "* The colour tuples are interpreted using RGB format.\n",
    "\n",
    "**save_plot_progress**\n",
    "* Saves multiple plots midway through the construction process.\n",
    "* `proportion_list` contains a list of floats between 0 and 1, representing the proportion of lines you want to draw (e.g. if the list was \\[0.5,1\\], then 2 plots would be saved, one with half the lines drawn and one completely finished."
   ]
  },
  {
   "cell_type": "code",
   "execution_count": 6,
   "metadata": {},
   "outputs": [],
   "source": [
    "def save_plot(list_coloured_lines, list_colours, file_name, size):\n",
    "        \n",
    "    new_hooks = generate_hooks(n_hooks, size, hook_pixel_size)\n",
    "    \n",
    "    for i in range(len(new_hooks)):\n",
    "        new_hooks[i] = [new_hooks[i][0], size - new_hooks[i][1]]\n",
    "    \n",
    "    thread_image = Image.new('RGB', (size,size), (255,255,255))\n",
    "    draw = ImageDraw.Draw(thread_image)\n",
    "    \n",
    "    for (lines, colour) in zip(list_coloured_lines, list_colours):\n",
    "        pixel_pairs = [(new_hooks[n[0]], new_hooks[n[1]]) for n in lines]\n",
    "        for j in pixel_pairs:\n",
    "            draw.line((tuple(j[0]), tuple(j[1])), fill=colour)\n",
    "        \n",
    "    thread_image.save(file_name + \".jpg\", format=\"JPEG\")\n",
    "    \n",
    "    \n",
    "def save_plot_progress(list_coloured_lines, list_colours, file_name, size, proportion_list):\n",
    "    \n",
    "    for prop in proportion_list:\n",
    "        file_name_temp = f\"{file_name} {int(100*prop)}%\"\n",
    "        lines_temp = list_coloured_lines[-1][:int(len(list_coloured_lines[-1])*prop)]\n",
    "        list_coloured_lines_temp = list_coloured_lines[:-1] + [lines_temp]\n",
    "        save_plot(list_coloured_lines_temp, list_colours, file_name_temp, size=size)"
   ]
  },
  {
   "cell_type": "markdown",
   "metadata": {},
   "source": [
    "* \n",
    "* \n",
    "* "
   ]
  },
  {
   "cell_type": "code",
   "execution_count": 7,
   "metadata": {},
   "outputs": [],
   "source": [
    "wheel_real_size = 0.58\n",
    "hook_real_size = 6 * (10**-3)\n",
    "wheel_pixel_size = 4000\n",
    "hook_pixel_size = (hook_real_size / wheel_real_size) * wheel_pixel_size \n",
    "n_hooks = 180\n",
    "\n",
    "hooks = generate_hooks(n_hooks, wheel_pixel_size, hook_pixel_size)\n",
    "through_pixels_dict = build_through_pixels_dict(n_hooks, wheel_pixel_size, hook_pixel_size)"
   ]
  },
  {
   "cell_type": "code",
   "execution_count": 8,
   "metadata": {},
   "outputs": [],
   "source": [
    "image_m = prepare_image(\"db_BLACK.jpg\")\n",
    "image_wpos = prepare_image(\"db_BLACK_wpos.jpg\", weighting=True)\n",
    "image_wneg = prepare_image(\"db_BLACK_wneg.jpg\", weighting=True)\n",
    "\n",
    "image_RED = prepare_image(\"db_RED.jpg\")\n",
    "image_BLUE = prepare_image(\"db_BLUE.jpg\")\n",
    "image_WHITE_LEFT = prepare_image(\"db_WHITE_LEFT.jpg\")\n",
    "image_WHITE_RIGHT = prepare_image(\"db_WHITE_RIGHT.jpg\")"
   ]
  },
  {
   "cell_type": "code",
   "execution_count": 9,
   "metadata": {
    "scrolled": true
   },
   "outputs": [
    {
     "data": {
      "image/png": "[encoded data removed]",
      "text/plain": [
       "<Figure size 2160x2160 with 7 Axes>"
      ]
     },
     "metadata": {
      "needs_background": "light"
     },
     "output_type": "display_data"
    }
   ],
   "source": [
    "image_list = [image_m, image_wpos, image_wneg, image_RED, image_BLUE, image_WHITE_LEFT, image_WHITE_RIGHT]\n",
    "display_images(image_list)"
   ]
  },
  {
   "cell_type": "code",
   "execution_count": 10,
   "metadata": {},
   "outputs": [
    {
     "name": "stdout",
     "output_type": "stream",
     "text": [
      "4000/4000, average penalty = 32.22/51.98\n",
      "time = 00:12:21\n"
     ]
    }
   ],
   "source": [
    "lines_BLACK= find_lines(image_m, n_lines=4000, n_random=180, \n",
    "                        darkness=170, lightness_penalty=0.45, \n",
    "                        w_pos=image_wpos, w_neg=image_wneg, \n",
    "                        line_norm_mode=\"weighted length\")"
   ]
  },
  {
   "cell_type": "code",
   "execution_count": 11,
   "metadata": {},
   "outputs": [
    {
     "name": "stdout",
     "output_type": "stream",
     "text": [
      "694/800, average penalty = 16.65/20.60\n",
      "time = 00:00:35\n"
     ]
    }
   ],
   "source": [
    "lines_RED = find_lines(image_RED, n_lines=800, n_random=250, \n",
    "                       darkness=150, lightness_penalty=0.4,\n",
    "                       line_norm_mode=\"length\")"
   ]
  },
  {
   "cell_type": "code",
   "execution_count": 12,
   "metadata": {},
   "outputs": [
    {
     "name": "stdout",
     "output_type": "stream",
     "text": [
      "502/600, average penalty = 3.90/5.26\n",
      "time = 00:00:35\n"
     ]
    }
   ],
   "source": [
    "lines_BLUE = find_lines(image_BLUE, n_lines=600, n_random=400, \n",
    "                        darkness=100, lightness_penalty=0.15,\n",
    "                        line_norm_mode=\"length\")"
   ]
  },
  {
   "cell_type": "code",
   "execution_count": 13,
   "metadata": {},
   "outputs": [
    {
     "name": "stdout",
     "output_type": "stream",
     "text": [
      "160/250, average penalty = 19.09/19.89\n",
      "time = 00:00:12\n"
     ]
    }
   ],
   "source": [
    "lines_WHITE_LEFT = find_lines(image_WHITE_LEFT, n_lines=250, n_random=400, \n",
    "                              darkness=250, lightness_penalty=2.1, \n",
    "                              line_norm_mode=\"length\")"
   ]
  },
  {
   "cell_type": "code",
   "execution_count": 14,
   "metadata": {},
   "outputs": [
    {
     "name": "stdout",
     "output_type": "stream",
     "text": [
      "140/250, average penalty = 14.44/15.08\n",
      "time = 00:00:12\n"
     ]
    }
   ],
   "source": [
    "lines_WHITE_RIGHT = find_lines(image_WHITE_RIGHT, n_lines=250, n_random=400, \n",
    "                               darkness=250, lightness_penalty=2.1, \n",
    "                               line_norm_mode=\"length\")"
   ]
  },
  {
   "cell_type": "code",
   "execution_count": 15,
   "metadata": {},
   "outputs": [],
   "source": [
    "save_plot([lines_BLUE], [(0,100,255)], \"david bowie blue\", 4000)"
   ]
  },
  {
   "cell_type": "code",
   "execution_count": 16,
   "metadata": {},
   "outputs": [],
   "source": [
    "save_plot([lines_BLUE, lines_RED], [(0,100,255), (255,0,0)], \"david bowie blue and red\", 4000)"
   ]
  },
  {
   "cell_type": "code",
   "execution_count": 17,
   "metadata": {},
   "outputs": [],
   "source": [
    "save_plot_progress([lines_BLUE, lines_RED, lines_BLACK], [(0,100,255), (255,0,0), (0,0,0)], \n",
    "                   \"david bowie\", 4000, [0.2, 0.4, 0.6, 0.8, 1])"
   ]
  },
  {
   "cell_type": "code",
   "execution_count": 18,
   "metadata": {},
   "outputs": [],
   "source": [
    "save_plot([lines_BLUE, lines_RED, lines_BLACK, lines_WHITE_LEFT, lines_WHITE_RIGHT], \n",
    "          [(0,100,255), (255,0,0), (0,0,0), (255,255,255), (255,255,255)], \n",
    "          \"david bowie full\", 4000)"
   ]
  },
  {
   "cell_type": "markdown",
   "metadata": {},
   "source": [
    "* \n",
    "* \n",
    "* "
   ]
  },
  {
   "cell_type": "markdown",
   "metadata": {},
   "source": [
    "**edge**\n",
    "* This class introduces some useful features of edges:\n",
    "  * Edges each have 2 nodes, A and B. Since each node refers to a particular side of a particular hook, the nodes have a `vertex` and `direction` number (referring to the hook and the side individually).\n",
    "  * `backwards` flips around the nodes of an edge.\n",
    "  * `connected` tests whether an edge is in sequence with another edge (i.e. you can trace them out, one after the other, with a single piece of thread).\n",
    "  * `next_edges` takes an edge and a list of edges, and returns all edges in the list which are in sequence with the first edge. "
   ]
  },
  {
   "cell_type": "code",
   "execution_count": 19,
   "metadata": {},
   "outputs": [],
   "source": [
    "class edge():\n",
    "    \n",
    "    def __init__(self, A, B):\n",
    "        self.A = A\n",
    "        self.B = B\n",
    "        self.A_vertex = int(A/2)\n",
    "        self.B_vertex = int(B/2)\n",
    "        self.A_direction = A%2\n",
    "        self.B_direction = B%2\n",
    "        \n",
    "    def __repr__(self):\n",
    "        return (\"({}, {})\".format(self.A, self.B))\n",
    "    \n",
    "    def __eq__(self, other):\n",
    "        return str(self) == str(other)\n",
    "    \n",
    "    def backwards(self):\n",
    "        return edge(self.B, self.A)\n",
    "    \n",
    "    def connected(self, e):\n",
    "        return self.B_vertex == e.A_vertex and self.B_direction != e.A_direction\n",
    "        \n",
    "    def next_edges(self, edge_list):\n",
    "        \n",
    "        forwards_edge_list = [e for e in edge_list if self.connected(e)]\n",
    "        backwards_edge_list = [e.backwards() for e in edge_list if self.connected(e.backwards())]\n",
    "        \n",
    "        edge_list = forwards_edge_list + backwards_edge_list\n",
    "        \n",
    "        return edge_list"
   ]
  },
  {
   "cell_type": "markdown",
   "metadata": {},
   "source": [
    "**extra_edges_parity_correct**\n",
    "* Given a list of edges, returns a list of extra edges that are needed to parity-correct the original list (i.e. make sure every hook has the same number of edges on either side).\n",
    "* The extra edges are chosen in stages, in a way that minimises the difficulty of the manual threading process.\n",
    "\n",
    "**get_closest_pair**\n",
    "* Used in the `extra_edges_parity_correct` algorithm, to find the closest 0-1 pair to match up."
   ]
  },
  {
   "cell_type": "code",
   "execution_count": 20,
   "metadata": {},
   "outputs": [],
   "source": [
    "def extra_edges_parity_correct(edge_list, n_vertices, verbose=False):\n",
    "        \n",
    "    d = {n : 0 for n in range(n_vertices)}\n",
    "    \n",
    "    for e in edge_list:\n",
    "        \n",
    "        if e.A_direction == 0:\n",
    "            d[e.A_vertex] -= 1\n",
    "        elif e.A_direction == 1:\n",
    "            d[e.A_vertex] += 1\n",
    "    \n",
    "        if e.B_direction == 0:\n",
    "            d[e.B_vertex] -= 1\n",
    "        elif e.B_direction == 1:\n",
    "            d[e.B_vertex] += 1\n",
    "    \n",
    "    extra_edges = []\n",
    "    \n",
    "    # First while loop adds edges until the number that need 0-connections is same as the number that need 1-connections.\n",
    "    while True:\n",
    "        s0 = sum([max(i,0) for i in d.values()])\n",
    "        s1 = sum([-min(i,0) for i in d.values()])\n",
    "        if s0 == s1:\n",
    "            break\n",
    "        elif s0 > s1:\n",
    "            need_a_zero = [i for i in d.keys() if d[i] > 0]\n",
    "            a, b, distance = get_closest_pair(need_a_zero, need_a_zero, n_vertices)\n",
    "            d[a] -= 1\n",
    "            d[b] -=1\n",
    "            A = 2*a\n",
    "            B = 2*b\n",
    "            extra_edges.append(edge(A,B))\n",
    "        elif s1 > s0:           \n",
    "            need_a_one = [i for i in d.keys() if d[i] < 0]\n",
    "            a, b, distance = get_closest_pair(need_a_one, need_a_one, n_vertices)\n",
    "            d[a] += 1\n",
    "            d[b] +=1\n",
    "            A = 2*a+1\n",
    "            B = 2*b+1\n",
    "            extra_edges.append(edge(A,B))\n",
    "        if verbose:\n",
    "            print(\"1st stage: pairing {}, {}, with distance = {}\".format(A, B, distance))\n",
    "        \n",
    "    # Second while loop connects the closest pair that need an extra 0-connection and 1-connection respectively\n",
    "    # (close in the sense that the hook needing a 0 should be a short distance anticlockwise from the hook needing a 1).\n",
    "    while sum([abs(i) for i in d.values()]) > 0:      \n",
    "        need_a_zero = [n for n in d.keys() if d[n] > 0]\n",
    "        need_a_one = [n for n in d.keys() if d[n] < 0]\n",
    "        a, b, distance = get_closest_pair(need_a_zero, need_a_one, n_vertices) #see cell below\n",
    "        d[a] -= 1\n",
    "        d[b] += 1\n",
    "        A = 2*a\n",
    "        B = 2*b + 1\n",
    "        extra_edges.append(edge(A,B))\n",
    "        if verbose:\n",
    "            print(\"2nd stage: pairing {}, {}, with distance = {}\".format(A, B, distance))\n",
    "\n",
    "    return extra_edges\n",
    "\n",
    "\n",
    "def get_closest_pair(need_a_zero, need_a_one, n_vertices):\n",
    "    \n",
    "    best_distance = n_vertices\n",
    "    \n",
    "    for a in need_a_zero:\n",
    "        for b in need_a_one:\n",
    "            new_distance = (a-b)%n_vertices\n",
    "            if new_distance < best_distance and new_distance != 0:\n",
    "                best_distance = new_distance\n",
    "                best_a = a\n",
    "                best_b = b\n",
    "\n",
    "    return (best_a, best_b, best_distance)"
   ]
  },
  {
   "cell_type": "markdown",
   "metadata": {},
   "source": [
    "**extra_edges_connect_graph**\n",
    "* Adds extra edges so that the graph is connected.\n",
    "* Does this by finding 2 hooks in disconnected islands that are adjacant, and joining them using a double bridge.\n",
    "\n",
    "**add_connected_vertex**\n",
    "* Takes a set of vertices and an edge list, and looks for a vertex not currently in the set that can be connected to the rest of the set using one of the edges in the list. \n",
    "* If it finds such a vertex, it adds it to the set.\n",
    "* Returns the new set, as well as a boolean indicating whether an edge has been successfully added.\n",
    "\n",
    "**get_adjacant_vertices**\n",
    "* Takes a set of vertices and its compliment, and returns a pair of vertices (in set and compliment respectively) that are a distance of 1 apart from each other."
   ]
  },
  {
   "cell_type": "code",
   "execution_count": 21,
   "metadata": {},
   "outputs": [],
   "source": [
    "def extra_edges_connect_graph(edge_list):\n",
    "    \n",
    "    full_vertex_set = set()\n",
    "    for i in edge_list:\n",
    "        full_vertex_set.add(i.A_vertex)\n",
    "        full_vertex_set.add(i.B_vertex)\n",
    "        \n",
    "    connected_vertex_set = set([edge_list[0].A_vertex, edge_list[0].B_vertex])\n",
    "    \n",
    "    extra_edges = []\n",
    "    \n",
    "    while len(connected_vertex_set) < len(full_vertex_set):\n",
    "        \n",
    "        connected_vertex_set, found_new_vertex = add_connected_vertex(connected_vertex_set, edge_list)\n",
    "                \n",
    "        if not found_new_vertex:\n",
    "            \n",
    "            v0, v1 = get_adjacant_vertices(connected_vertex_set, full_vertex_set - connected_vertex_set)\n",
    "            \n",
    "            extra_edges += [edge(2*v0, 2*v1), edge(2*v0+1, 2*v1+1)]\n",
    "            \n",
    "            connected_vertex_set.add(v0)\n",
    "            connected_vertex_set.add(v1)\n",
    "            \n",
    "    return extra_edges\n",
    "\n",
    "\n",
    "def add_connected_vertex(conected_vertex_set, edge_list):\n",
    "\n",
    "    for i in edge_list:\n",
    "        \n",
    "        if (i.A_vertex in conected_vertex_set) ^ (i.B_vertex in conected_vertex_set):\n",
    "                \n",
    "            conected_vertex_set.add(i.A_vertex)\n",
    "            conected_vertex_set.add(i.B_vertex)\n",
    "            return (conected_vertex_set, True)\n",
    "    \n",
    "    return (conected_vertex_set, False)\n",
    "\n",
    "\n",
    "def get_adjacant_vertices(s, t):\n",
    "\n",
    "    for i in s:\n",
    "        for j in t:\n",
    "            if abs(i-j) == 1:\n",
    "                return (i, j) "
   ]
  },
  {
   "cell_type": "markdown",
   "metadata": {},
   "source": [
    "**create_cycle**\n",
    "* Creates a path from edges in edge_list, starting from first_edge. \n",
    "* Returns path, and new reduced edge_list.\n",
    "* Note, the path is only guaranteed to be a cycle if edge_list isn't parity corrected.\n",
    "\n",
    "**add_cycle**\n",
    "* Given a cycle and edge_list, goes through the cycle trying to find a place to insert a new cycle (which only uses edges from edge_list).\n",
    "* Once it finds a place, it inserts a cycle, and returns the new extended cycle, and the new reduced edge_list.\n",
    "* Note, a cycle that can be added is only guaranteed to exist if edge_list is connected.\n",
    "\n",
    "**create_full_cycle**\n",
    "* Takes edge_list, and keeps adding cycles to it using `add_cycle`, until all edges have been added.\n",
    "* Note, if edge_list isn't parity corrected or isn't connected, this function will break."
   ]
  },
  {
   "cell_type": "code",
   "execution_count": 22,
   "metadata": {},
   "outputs": [],
   "source": [
    "def create_cycle(edge_list, first_edge):\n",
    "    \n",
    "    cycle = [first_edge]\n",
    "    \n",
    "    while True:  \n",
    "        try:\n",
    "            next_edge = cycle[-1].next_edges(edge_list)[0]\n",
    "            cycle.append(next_edge)\n",
    "            if next_edge in edge_list:\n",
    "                edge_list.remove(next_edge)\n",
    "            else:\n",
    "                next_edge = next_edge.backwards()\n",
    "                edge_list.remove(next_edge)\n",
    "        except:\n",
    "            return cycle, edge_list\n",
    "        \n",
    "        \n",
    "def add_cycle(cycle, edge_list):\n",
    "    \n",
    "    for i in range(len(cycle)):\n",
    "        \n",
    "        cycle = [cycle[-1]] + cycle[:-1]\n",
    "        edge_list_copy = edge_list\n",
    "        new_cycle, edge_list_copy = create_cycle(edge_list_copy, cycle[-1])\n",
    "        if len(new_cycle) > 1:\n",
    "            return cycle + new_cycle[1:], edge_list_copy\n",
    "    \n",
    "    \n",
    "def create_full_cycle(edge_list):\n",
    "    \n",
    "    cycle, edge_list = create_cycle(edge_list[1:], edge_list[0])\n",
    "    \n",
    "    while len(edge_list) > 0:\n",
    "        cycle, edge_list = add_cycle(cycle, edge_list)\n",
    "    \n",
    "    return cycle"
   ]
  },
  {
   "cell_type": "markdown",
   "metadata": {},
   "source": [
    "**edges_to_output**\n",
    "* Takes in a list of edges, and:\n",
    "    * Adds edges so they are parity-corrected and connected\n",
    "    * Uses all the other functions to create a full cycle.\n",
    "    * Cuts down unnecessary outside edges (see function `cut_down`).\n",
    "    * Presents the output in a form for maunal threading.\n",
    "\n",
    "**cut_down**\n",
    "* Removes sequences of multiple \"outside\" strings, replacing them with one direct string."
   ]
  },
  {
   "cell_type": "code",
   "execution_count": 23,
   "metadata": {},
   "outputs": [],
   "source": [
    "def edges_to_output(line_list):\n",
    "    \n",
    "    edge_list = [edge(i[0],i[1]) for i in line_list if type(i) == list]\n",
    "        \n",
    "    correction_edges = extra_edges_parity_correct(edge_list, n_hooks)\n",
    "    correction_edges += extra_edges_connect_graph(edge_list + correction_edges)\n",
    "    \n",
    "    full_cycle = create_full_cycle(edge_list + correction_edges)\n",
    "    \n",
    "    l = [0] * len(full_cycle)\n",
    "    \n",
    "    for i in correction_edges:\n",
    "        for j in range(len(full_cycle)):\n",
    "            if (i == full_cycle[j] or i.backwards() == full_cycle[j]) and l[j] == 0:\n",
    "                l[j] = 1\n",
    "                break\n",
    "                        \n",
    "    full_cycle, l = cut_down(full_cycle, l)\n",
    "        \n",
    "    l = [0] + l[:-1]\n",
    "\n",
    "    output = []\n",
    "    \n",
    "    first_hook = True\n",
    "        \n",
    "    for i in zip(full_cycle, l):\n",
    "        \n",
    "        n1 = i[0].A_vertex   \n",
    "        \n",
    "        if first_hook:\n",
    "            n2 = i[0].A_direction\n",
    "            first_hook = False\n",
    "        else:\n",
    "            n2 = (i[0].A_direction + 1) % 2\n",
    "        \n",
    "        if i[1] == 1:\n",
    "            n3 = \" outside\"\n",
    "        else:\n",
    "            n3 = \"\"\n",
    "            \n",
    "        output.append(\"{}-{}{}\".format(n1, n2, n3))\n",
    "    \n",
    "    return full_cycle, output\n",
    "\n",
    "\n",
    "def cut_down(full_cycle, l):\n",
    "    \n",
    "    for i in range(len(l)-1):\n",
    "                \n",
    "        if l[i] == 1 and l[i+1] == 1:\n",
    "            new_full_cycle = full_cycle[:i] + [edge(full_cycle[i].A, full_cycle[i+1].B)] + full_cycle[i+2:]\n",
    "            new_l = l[:i] + [1] + l[i+2:]\n",
    "            return cut_down(new_full_cycle, new_l)\n",
    "        \n",
    "    if l[-1] == 1 and l[-2] == 1:\n",
    "        return cut_down(full_cycle[:-1], l[:-1])\n",
    "    \n",
    "    return full_cycle, l"
   ]
  },
  {
   "cell_type": "markdown",
   "metadata": {},
   "source": [
    "**test_output**\n",
    "* Takes the output and saves it as a jpeg, just to make sure that everything has worked correctly.\n",
    "\n",
    "**display**\n",
    "* Prints all the lines, in groups of 100. This is the guide I use for manual threading.\n",
    "\n",
    "**info**\n",
    "* Prints out the total distance (in meters) of the thread, and the total number of lines."
   ]
  },
  {
   "cell_type": "code",
   "execution_count": 24,
   "metadata": {},
   "outputs": [],
   "source": [
    "def test_output(output_list, col_list, file_name=\"reconstructed\"):\n",
    "\n",
    "    reconstructed_lines = []\n",
    "    \n",
    "    for n in range(len(output_list)):\n",
    "        \n",
    "        reconstructed_lines.append([])\n",
    "    \n",
    "        for i in range(len(output_list[n]) - 1):\n",
    "            A_vertex, A_direction_opposite = [int(i) for i in output_list[n][i].strip(\" outside\").split(\"-\")]\n",
    "            A = 2*A_vertex + (A_direction_opposite+1)%2\n",
    "            B_vertex, B_direction = [int(i) for i in output_list[n][i+1].strip(\" outside\").split(\"-\")]\n",
    "            B = 2*B_vertex + B_direction\n",
    "\n",
    "            if \"outside\" not in output_list[n][i+1]:\n",
    "                reconstructed_lines[n].append([A,B])\n",
    "\n",
    "    save_plot(reconstructed_lines, col_list, file_name, wheel_pixel_size)\n",
    "\n",
    "    \n",
    "def display(output):\n",
    "    \n",
    "    count = 0\n",
    "\n",
    "    for i in output:\n",
    "        print(i)\n",
    "        count += 1\n",
    "        if count % 100 == 0:\n",
    "            print(\"\\n{}\\n\".format(count))\n",
    "    \n",
    "    \n",
    "def info(lines):\n",
    "    \n",
    "    hook_pixel_size = (hook_real_size / wheel_real_size) * wheel_pixel_size\n",
    "    \n",
    "    lines = [[i.A, i.B] for i in lines]\n",
    "    hooks = generate_hooks(n_hooks, wheel_pixel_size, hook_pixel_size)\n",
    "    lines = [(hooks[n[0]], hooks[n[1]]) for n in lines]\n",
    "\n",
    "    d = 0\n",
    "    for i in lines:\n",
    "        d += ((i[0][0]-i[1][0])**2 + (i[0][1]-i[1][1])**2) ** 0.5 + hook_pixel_size\n",
    "    \n",
    "    d = d * (wheel_real_size / wheel_pixel_size)\n",
    "    \n",
    "    print(f\"distance = {int(d)} meters\\n# lines = {len(lines)}\\n\")   "
   ]
  },
  {
   "cell_type": "markdown",
   "metadata": {},
   "source": [
    "* \n",
    "* \n",
    "* "
   ]
  },
  {
   "cell_type": "code",
   "execution_count": 25,
   "metadata": {},
   "outputs": [
    {
     "name": "stdout",
     "output_type": "stream",
     "text": [
      "distance = 1778 meters\n",
      "# lines = 4482\n",
      "\n"
     ]
    }
   ],
   "source": [
    "final_instructions_black = edges_to_output(lines_BLACK)\n",
    "info(final_instructions_black[0])"
   ]
  },
  {
   "cell_type": "code",
   "execution_count": 26,
   "metadata": {},
   "outputs": [
    {
     "name": "stdout",
     "output_type": "stream",
     "text": [
      "distance = 399 meters\n",
      "# lines = 763\n",
      "\n"
     ]
    }
   ],
   "source": [
    "final_instructions_red = edges_to_output(lines_RED)\n",
    "info(final_instructions_red[0])"
   ]
  },
  {
   "cell_type": "code",
   "execution_count": 27,
   "metadata": {},
   "outputs": [
    {
     "name": "stdout",
     "output_type": "stream",
     "text": [
      "distance = 273 meters\n",
      "# lines = 554\n",
      "\n"
     ]
    }
   ],
   "source": [
    "final_instructions_blue = edges_to_output(lines_BLUE)\n",
    "info(final_instructions_blue[0])"
   ]
  },
  {
   "cell_type": "code",
   "execution_count": 29,
   "metadata": {},
   "outputs": [
    {
     "name": "stdout",
     "output_type": "stream",
     "text": [
      "distance = 38 meters\n",
      "# lines = 213\n",
      "\n"
     ]
    }
   ],
   "source": [
    "final_instructions_white_left = edges_to_output(lines_WHITE_LEFT)\n",
    "info(final_instructions_white_left[0])"
   ]
  },
  {
   "cell_type": "code",
   "execution_count": 30,
   "metadata": {},
   "outputs": [
    {
     "name": "stdout",
     "output_type": "stream",
     "text": [
      "distance = 29 meters\n",
      "# lines = 180\n",
      "\n"
     ]
    }
   ],
   "source": [
    "final_instructions_white_right = edges_to_output(lines_WHITE_RIGHT)\n",
    "info(final_instructions_white_right[0])"
   ]
  },
  {
   "cell_type": "code",
   "execution_count": null,
   "metadata": {},
   "outputs": [],
   "source": [
    "display(final_instructions_black[1])"
   ]
  },
  {
   "cell_type": "code",
   "execution_count": null,
   "metadata": {},
   "outputs": [],
   "source": [
    "display(final_instructions_red[1])"
   ]
  },
  {
   "cell_type": "code",
   "execution_count": null,
   "metadata": {},
   "outputs": [],
   "source": [
    "display(final_instructions_blue[1])"
   ]
  },
  {
   "cell_type": "code",
   "execution_count": null,
   "metadata": {},
   "outputs": [],
   "source": [
    "display(final_instructions_white_left[1])"
   ]
  },
  {
   "cell_type": "code",
   "execution_count": null,
   "metadata": {
    "scrolled": true
   },
   "outputs": [],
   "source": [
    "display(final_instructions_white_right[1])"
   ]
  },
  {
   "cell_type": "code",
   "execution_count": 31,
   "metadata": {},
   "outputs": [],
   "source": [
    "test_output([final_instructions_blue[1], final_instructions_red[1], final_instructions_black[1], \n",
    "             final_instructions_white_left[1], final_instructions_white_right[1]], \n",
    "            [(0,100,255), (255,0,0), (0,0,0), (255,255,255), (255,255,255)])"
   ]
  }
 ],
 "metadata": {
  "kernelspec": {
   "display_name": "Python 3",
   "language": "python",
   "name": "python3"
  },
  "language_info": {
   "codemirror_mode": {
    "name": "ipython",
    "version": 3
   },
   "file_extension": ".py",
   "mimetype": "text/x-python",
   "name": "python",
   "nbconvert_exporter": "python",
   "pygments_lexer": "ipython3",
   "version": "3.8.3"
  }
 },
 "nbformat": 4,
 "nbformat_minor": 2
}
